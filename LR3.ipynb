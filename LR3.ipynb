{
 "cells": [
  {
   "cell_type": "markdown",
   "id": "2b0e4f7c",
   "metadata": {},
   "source": [
    "# Лабораторная работа № 2\n",
    "## Выполнил студент группы ИУ5-24М Лычагин Д.\n",
    "### Датасет Время марафона"
   ]
  },
  {
   "cell_type": "code",
   "execution_count": 5,
   "id": "44a5d665",
   "metadata": {},
   "outputs": [],
   "source": [
    "import matplotlib.pyplot as plt\n",
    "plt.style.use('classic')\n",
    "%matplotlib inline\n",
    "import numpy as np\n",
    "import pandas as pd\n",
    "import seaborn as sns\n",
    "from sklearn.datasets import load_boston\n",
    "from sklearn.model_selection import train_test_split\n",
    "from sklearn.preprocessing import StandardScaler\n",
    "from sklearn.preprocessing import MinMaxScaler\n",
    "from sklearn.preprocessing import RobustScaler\n",
    "from sklearn.preprocessing import MaxAbsScaler\n",
    "import warnings\n",
    "warnings.filterwarnings(\"ignore\")\n",
    "import scipy.stats as stats"
   ]
  },
  {
   "cell_type": "code",
   "execution_count": 6,
   "id": "4551dbd8",
   "metadata": {},
   "outputs": [
    {
     "data": {
      "text/html": [
       "<div>\n",
       "<style scoped>\n",
       "    .dataframe tbody tr th:only-of-type {\n",
       "        vertical-align: middle;\n",
       "    }\n",
       "\n",
       "    .dataframe tbody tr th {\n",
       "        vertical-align: top;\n",
       "    }\n",
       "\n",
       "    .dataframe thead th {\n",
       "        text-align: right;\n",
       "    }\n",
       "</style>\n",
       "<table border=\"1\" class=\"dataframe\">\n",
       "  <thead>\n",
       "    <tr style=\"text-align: right;\">\n",
       "      <th></th>\n",
       "      <th>age</th>\n",
       "      <th>gender</th>\n",
       "      <th>split</th>\n",
       "      <th>final</th>\n",
       "    </tr>\n",
       "  </thead>\n",
       "  <tbody>\n",
       "    <tr>\n",
       "      <th>0</th>\n",
       "      <td>33</td>\n",
       "      <td>M</td>\n",
       "      <td>01:05:38</td>\n",
       "      <td>02:08:51</td>\n",
       "    </tr>\n",
       "    <tr>\n",
       "      <th>1</th>\n",
       "      <td>32</td>\n",
       "      <td>M</td>\n",
       "      <td>01:06:26</td>\n",
       "      <td>02:09:28</td>\n",
       "    </tr>\n",
       "    <tr>\n",
       "      <th>2</th>\n",
       "      <td>31</td>\n",
       "      <td>M</td>\n",
       "      <td>01:06:49</td>\n",
       "      <td>02:10:42</td>\n",
       "    </tr>\n",
       "    <tr>\n",
       "      <th>3</th>\n",
       "      <td>38</td>\n",
       "      <td>M</td>\n",
       "      <td>01:06:16</td>\n",
       "      <td>02:13:45</td>\n",
       "    </tr>\n",
       "    <tr>\n",
       "      <th>4</th>\n",
       "      <td>31</td>\n",
       "      <td>M</td>\n",
       "      <td>01:06:32</td>\n",
       "      <td>02:13:59</td>\n",
       "    </tr>\n",
       "  </tbody>\n",
       "</table>\n",
       "</div>"
      ],
      "text/plain": [
       "   age gender     split     final\n",
       "0   33      M  01:05:38  02:08:51\n",
       "1   32      M  01:06:26  02:09:28\n",
       "2   31      M  01:06:49  02:10:42\n",
       "3   38      M  01:06:16  02:13:45\n",
       "4   31      M  01:06:32  02:13:59"
      ]
     },
     "execution_count": 6,
     "metadata": {},
     "output_type": "execute_result"
    }
   ],
   "source": [
    "data = pd.read_csv('marathon-data.csv')\n",
    "data.head()"
   ]
  },
  {
   "cell_type": "markdown",
   "id": "fbaead66",
   "metadata": {},
   "source": [
    "## Добавление 2 полей в секундах"
   ]
  },
  {
   "cell_type": "code",
   "execution_count": 7,
   "id": "af982fe3",
   "metadata": {},
   "outputs": [
    {
     "data": {
      "text/html": [
       "<div>\n",
       "<style scoped>\n",
       "    .dataframe tbody tr th:only-of-type {\n",
       "        vertical-align: middle;\n",
       "    }\n",
       "\n",
       "    .dataframe tbody tr th {\n",
       "        vertical-align: top;\n",
       "    }\n",
       "\n",
       "    .dataframe thead th {\n",
       "        text-align: right;\n",
       "    }\n",
       "</style>\n",
       "<table border=\"1\" class=\"dataframe\">\n",
       "  <thead>\n",
       "    <tr style=\"text-align: right;\">\n",
       "      <th></th>\n",
       "      <th>age</th>\n",
       "      <th>gender</th>\n",
       "      <th>split</th>\n",
       "      <th>final</th>\n",
       "    </tr>\n",
       "  </thead>\n",
       "  <tbody>\n",
       "    <tr>\n",
       "      <th>0</th>\n",
       "      <td>33</td>\n",
       "      <td>M</td>\n",
       "      <td>0 days 01:05:38</td>\n",
       "      <td>0 days 02:08:51</td>\n",
       "    </tr>\n",
       "    <tr>\n",
       "      <th>1</th>\n",
       "      <td>32</td>\n",
       "      <td>M</td>\n",
       "      <td>0 days 01:06:26</td>\n",
       "      <td>0 days 02:09:28</td>\n",
       "    </tr>\n",
       "    <tr>\n",
       "      <th>2</th>\n",
       "      <td>31</td>\n",
       "      <td>M</td>\n",
       "      <td>0 days 01:06:49</td>\n",
       "      <td>0 days 02:10:42</td>\n",
       "    </tr>\n",
       "    <tr>\n",
       "      <th>3</th>\n",
       "      <td>38</td>\n",
       "      <td>M</td>\n",
       "      <td>0 days 01:06:16</td>\n",
       "      <td>0 days 02:13:45</td>\n",
       "    </tr>\n",
       "    <tr>\n",
       "      <th>4</th>\n",
       "      <td>31</td>\n",
       "      <td>M</td>\n",
       "      <td>0 days 01:06:32</td>\n",
       "      <td>0 days 02:13:59</td>\n",
       "    </tr>\n",
       "  </tbody>\n",
       "</table>\n",
       "</div>"
      ],
      "text/plain": [
       "   age gender           split           final\n",
       "0   33      M 0 days 01:05:38 0 days 02:08:51\n",
       "1   32      M 0 days 01:06:26 0 days 02:09:28\n",
       "2   31      M 0 days 01:06:49 0 days 02:10:42\n",
       "3   38      M 0 days 01:06:16 0 days 02:13:45\n",
       "4   31      M 0 days 01:06:32 0 days 02:13:59"
      ]
     },
     "execution_count": 7,
     "metadata": {},
     "output_type": "execute_result"
    }
   ],
   "source": [
    "import datetime\n",
    "\n",
    "def convert_time(s):\n",
    "    h, m, s = map(int, s.split(':'))\n",
    "    return datetime.timedelta(hours=h, minutes=m, seconds=s)\n",
    "\n",
    "data = pd.read_csv(r'C:\\Users\\lycha\\.jupyter\\marathon-data.csv',\n",
    "                   converters={'split':convert_time, 'final':convert_time})\n",
    "data.head()"
   ]
  },
  {
   "cell_type": "code",
   "execution_count": 8,
   "id": "bf6e7a4e",
   "metadata": {},
   "outputs": [
    {
     "data": {
      "text/html": [
       "<div>\n",
       "<style scoped>\n",
       "    .dataframe tbody tr th:only-of-type {\n",
       "        vertical-align: middle;\n",
       "    }\n",
       "\n",
       "    .dataframe tbody tr th {\n",
       "        vertical-align: top;\n",
       "    }\n",
       "\n",
       "    .dataframe thead th {\n",
       "        text-align: right;\n",
       "    }\n",
       "</style>\n",
       "<table border=\"1\" class=\"dataframe\">\n",
       "  <thead>\n",
       "    <tr style=\"text-align: right;\">\n",
       "      <th></th>\n",
       "      <th>age</th>\n",
       "      <th>gender</th>\n",
       "      <th>split</th>\n",
       "      <th>final</th>\n",
       "      <th>split_sec</th>\n",
       "      <th>final_sec</th>\n",
       "    </tr>\n",
       "  </thead>\n",
       "  <tbody>\n",
       "    <tr>\n",
       "      <th>0</th>\n",
       "      <td>33</td>\n",
       "      <td>M</td>\n",
       "      <td>0 days 01:05:38</td>\n",
       "      <td>0 days 02:08:51</td>\n",
       "      <td>3938.0</td>\n",
       "      <td>7731.0</td>\n",
       "    </tr>\n",
       "    <tr>\n",
       "      <th>1</th>\n",
       "      <td>32</td>\n",
       "      <td>M</td>\n",
       "      <td>0 days 01:06:26</td>\n",
       "      <td>0 days 02:09:28</td>\n",
       "      <td>3986.0</td>\n",
       "      <td>7768.0</td>\n",
       "    </tr>\n",
       "    <tr>\n",
       "      <th>2</th>\n",
       "      <td>31</td>\n",
       "      <td>M</td>\n",
       "      <td>0 days 01:06:49</td>\n",
       "      <td>0 days 02:10:42</td>\n",
       "      <td>4009.0</td>\n",
       "      <td>7842.0</td>\n",
       "    </tr>\n",
       "    <tr>\n",
       "      <th>3</th>\n",
       "      <td>38</td>\n",
       "      <td>M</td>\n",
       "      <td>0 days 01:06:16</td>\n",
       "      <td>0 days 02:13:45</td>\n",
       "      <td>3976.0</td>\n",
       "      <td>8025.0</td>\n",
       "    </tr>\n",
       "    <tr>\n",
       "      <th>4</th>\n",
       "      <td>31</td>\n",
       "      <td>M</td>\n",
       "      <td>0 days 01:06:32</td>\n",
       "      <td>0 days 02:13:59</td>\n",
       "      <td>3992.0</td>\n",
       "      <td>8039.0</td>\n",
       "    </tr>\n",
       "  </tbody>\n",
       "</table>\n",
       "</div>"
      ],
      "text/plain": [
       "   age gender           split           final  split_sec  final_sec\n",
       "0   33      M 0 days 01:05:38 0 days 02:08:51     3938.0     7731.0\n",
       "1   32      M 0 days 01:06:26 0 days 02:09:28     3986.0     7768.0\n",
       "2   31      M 0 days 01:06:49 0 days 02:10:42     4009.0     7842.0\n",
       "3   38      M 0 days 01:06:16 0 days 02:13:45     3976.0     8025.0\n",
       "4   31      M 0 days 01:06:32 0 days 02:13:59     3992.0     8039.0"
      ]
     },
     "execution_count": 8,
     "metadata": {},
     "output_type": "execute_result"
    }
   ],
   "source": [
    "data['split_sec'] = data['split'].astype(np.int64) / 1E9\n",
    "data['final_sec'] = data['final'].astype(np.int64) / 1E9\n",
    "data.head()"
   ]
  },
  {
   "cell_type": "code",
   "execution_count": 9,
   "id": "6c5772a7",
   "metadata": {},
   "outputs": [],
   "source": [
    "data_lr3 = data[['gender','split_sec', 'final_sec', 'age']]"
   ]
  },
  {
   "cell_type": "code",
   "execution_count": 10,
   "id": "ac4562d2",
   "metadata": {},
   "outputs": [
    {
     "data": {
      "text/html": [
       "<div>\n",
       "<style scoped>\n",
       "    .dataframe tbody tr th:only-of-type {\n",
       "        vertical-align: middle;\n",
       "    }\n",
       "\n",
       "    .dataframe tbody tr th {\n",
       "        vertical-align: top;\n",
       "    }\n",
       "\n",
       "    .dataframe thead th {\n",
       "        text-align: right;\n",
       "    }\n",
       "</style>\n",
       "<table border=\"1\" class=\"dataframe\">\n",
       "  <thead>\n",
       "    <tr style=\"text-align: right;\">\n",
       "      <th></th>\n",
       "      <th>split_sec</th>\n",
       "      <th>final_sec</th>\n",
       "      <th>age</th>\n",
       "    </tr>\n",
       "  </thead>\n",
       "  <tbody>\n",
       "    <tr>\n",
       "      <th>count</th>\n",
       "      <td>37250.000000</td>\n",
       "      <td>37250.000000</td>\n",
       "      <td>37250.000000</td>\n",
       "    </tr>\n",
       "    <tr>\n",
       "      <th>mean</th>\n",
       "      <td>7434.425664</td>\n",
       "      <td>17289.303597</td>\n",
       "      <td>40.697369</td>\n",
       "    </tr>\n",
       "    <tr>\n",
       "      <th>std</th>\n",
       "      <td>1375.093890</td>\n",
       "      <td>3812.145345</td>\n",
       "      <td>10.220043</td>\n",
       "    </tr>\n",
       "    <tr>\n",
       "      <th>min</th>\n",
       "      <td>3921.000000</td>\n",
       "      <td>7731.000000</td>\n",
       "      <td>17.000000</td>\n",
       "    </tr>\n",
       "    <tr>\n",
       "      <th>25%</th>\n",
       "      <td>6505.000000</td>\n",
       "      <td>14544.000000</td>\n",
       "      <td>33.000000</td>\n",
       "    </tr>\n",
       "    <tr>\n",
       "      <th>50%</th>\n",
       "      <td>7273.000000</td>\n",
       "      <td>17065.000000</td>\n",
       "      <td>40.000000</td>\n",
       "    </tr>\n",
       "    <tr>\n",
       "      <th>75%</th>\n",
       "      <td>8171.000000</td>\n",
       "      <td>19656.000000</td>\n",
       "      <td>48.000000</td>\n",
       "    </tr>\n",
       "    <tr>\n",
       "      <th>max</th>\n",
       "      <td>17989.000000</td>\n",
       "      <td>36068.000000</td>\n",
       "      <td>86.000000</td>\n",
       "    </tr>\n",
       "  </tbody>\n",
       "</table>\n",
       "</div>"
      ],
      "text/plain": [
       "          split_sec     final_sec           age\n",
       "count  37250.000000  37250.000000  37250.000000\n",
       "mean    7434.425664  17289.303597     40.697369\n",
       "std     1375.093890   3812.145345     10.220043\n",
       "min     3921.000000   7731.000000     17.000000\n",
       "25%     6505.000000  14544.000000     33.000000\n",
       "50%     7273.000000  17065.000000     40.000000\n",
       "75%     8171.000000  19656.000000     48.000000\n",
       "max    17989.000000  36068.000000     86.000000"
      ]
     },
     "execution_count": 10,
     "metadata": {},
     "output_type": "execute_result"
    }
   ],
   "source": [
    "data_lr3.describe()"
   ]
  },
  {
   "cell_type": "code",
   "execution_count": 11,
   "id": "15f74fa6",
   "metadata": {},
   "outputs": [],
   "source": [
    "X_ALL = data_lr3.drop('gender', axis=1)"
   ]
  },
  {
   "cell_type": "code",
   "execution_count": 12,
   "id": "df3447bc",
   "metadata": {},
   "outputs": [],
   "source": [
    "def arr_to_df(arr_scaled):\n",
    "    res = pd.DataFrame(arr_scaled, columns=X_ALL.columns)\n",
    "    return res"
   ]
  },
  {
   "cell_type": "code",
   "execution_count": 13,
   "id": "1ebd4410",
   "metadata": {},
   "outputs": [
    {
     "data": {
      "text/plain": [
       "((29800, 3), (7450, 3))"
      ]
     },
     "execution_count": 13,
     "metadata": {},
     "output_type": "execute_result"
    }
   ],
   "source": [
    "# Разделим выборку на обучающую и тестовую\n",
    "X_train, X_test, y_train, y_test = train_test_split(X_ALL, data_lr3['gender'],\n",
    "                                                    test_size=0.2,\n",
    "                                                    random_state=1)\n",
    "# Преобразуем массивы в DataFrame\n",
    "X_train_df = arr_to_df(X_train)\n",
    "X_test_df = arr_to_df(X_test)\n",
    "\n",
    "X_train_df.shape, X_test_df.shape"
   ]
  },
  {
   "cell_type": "markdown",
   "id": "7061b645",
   "metadata": {},
   "source": [
    "## Масштабирование признаков"
   ]
  },
  {
   "cell_type": "markdown",
   "id": "13edd0e6",
   "metadata": {},
   "source": [
    "### StandardScaler"
   ]
  },
  {
   "cell_type": "code",
   "execution_count": 14,
   "id": "60859a54",
   "metadata": {},
   "outputs": [
    {
     "data": {
      "text/html": [
       "<div>\n",
       "<style scoped>\n",
       "    .dataframe tbody tr th:only-of-type {\n",
       "        vertical-align: middle;\n",
       "    }\n",
       "\n",
       "    .dataframe tbody tr th {\n",
       "        vertical-align: top;\n",
       "    }\n",
       "\n",
       "    .dataframe thead th {\n",
       "        text-align: right;\n",
       "    }\n",
       "</style>\n",
       "<table border=\"1\" class=\"dataframe\">\n",
       "  <thead>\n",
       "    <tr style=\"text-align: right;\">\n",
       "      <th></th>\n",
       "      <th>split_sec</th>\n",
       "      <th>final_sec</th>\n",
       "      <th>age</th>\n",
       "    </tr>\n",
       "  </thead>\n",
       "  <tbody>\n",
       "    <tr>\n",
       "      <th>0</th>\n",
       "      <td>-2.542716</td>\n",
       "      <td>-2.507363</td>\n",
       "      <td>-0.753174</td>\n",
       "    </tr>\n",
       "    <tr>\n",
       "      <th>1</th>\n",
       "      <td>-2.507808</td>\n",
       "      <td>-2.497657</td>\n",
       "      <td>-0.851022</td>\n",
       "    </tr>\n",
       "    <tr>\n",
       "      <th>2</th>\n",
       "      <td>-2.491082</td>\n",
       "      <td>-2.478245</td>\n",
       "      <td>-0.948871</td>\n",
       "    </tr>\n",
       "    <tr>\n",
       "      <th>3</th>\n",
       "      <td>-2.515081</td>\n",
       "      <td>-2.430240</td>\n",
       "      <td>-0.263933</td>\n",
       "    </tr>\n",
       "    <tr>\n",
       "      <th>4</th>\n",
       "      <td>-2.503445</td>\n",
       "      <td>-2.426567</td>\n",
       "      <td>-0.948871</td>\n",
       "    </tr>\n",
       "    <tr>\n",
       "      <th>...</th>\n",
       "      <td>...</td>\n",
       "      <td>...</td>\n",
       "      <td>...</td>\n",
       "    </tr>\n",
       "    <tr>\n",
       "      <th>37245</th>\n",
       "      <td>6.130263</td>\n",
       "      <td>4.482496</td>\n",
       "      <td>-2.220898</td>\n",
       "    </tr>\n",
       "    <tr>\n",
       "      <th>37246</th>\n",
       "      <td>6.624054</td>\n",
       "      <td>4.490628</td>\n",
       "      <td>-0.459629</td>\n",
       "    </tr>\n",
       "    <tr>\n",
       "      <th>37247</th>\n",
       "      <td>6.050995</td>\n",
       "      <td>4.493776</td>\n",
       "      <td>1.008094</td>\n",
       "    </tr>\n",
       "    <tr>\n",
       "      <th>37248</th>\n",
       "      <td>7.600728</td>\n",
       "      <td>4.918739</td>\n",
       "      <td>1.399487</td>\n",
       "    </tr>\n",
       "    <tr>\n",
       "      <th>37249</th>\n",
       "      <td>7.675633</td>\n",
       "      <td>4.926084</td>\n",
       "      <td>1.693032</td>\n",
       "    </tr>\n",
       "  </tbody>\n",
       "</table>\n",
       "<p>37250 rows × 3 columns</p>\n",
       "</div>"
      ],
      "text/plain": [
       "       split_sec  final_sec       age\n",
       "0      -2.542716  -2.507363 -0.753174\n",
       "1      -2.507808  -2.497657 -0.851022\n",
       "2      -2.491082  -2.478245 -0.948871\n",
       "3      -2.515081  -2.430240 -0.263933\n",
       "4      -2.503445  -2.426567 -0.948871\n",
       "...          ...        ...       ...\n",
       "37245   6.130263   4.482496 -2.220898\n",
       "37246   6.624054   4.490628 -0.459629\n",
       "37247   6.050995   4.493776  1.008094\n",
       "37248   7.600728   4.918739  1.399487\n",
       "37249   7.675633   4.926084  1.693032\n",
       "\n",
       "[37250 rows x 3 columns]"
      ]
     },
     "execution_count": 14,
     "metadata": {},
     "output_type": "execute_result"
    }
   ],
   "source": [
    "# Обучаем StandardScaler на всей выборке и масштабируем\n",
    "cs11 = StandardScaler()\n",
    "data_cs11_scaled_temp = cs11.fit_transform(X_ALL)\n",
    "# формируем DataFrame на основе массива\n",
    "data_cs11_scaled =  arr_to_df(data_cs11_scaled_temp)\n",
    "data_cs11_scaled"
   ]
  },
  {
   "cell_type": "markdown",
   "id": "2f01fd5d",
   "metadata": {},
   "source": [
    "### Mean Normalisation"
   ]
  },
  {
   "cell_type": "code",
   "execution_count": 15,
   "id": "431ed8e5",
   "metadata": {},
   "outputs": [],
   "source": [
    "class MeanNormalisation:\n",
    "    \n",
    "    def fit(self, param_df):\n",
    "        self.means = X_train.mean(axis=0)\n",
    "        maxs = X_train.max(axis=0)\n",
    "        mins = X_train.min(axis=0)\n",
    "        self.ranges = maxs - mins\n",
    "\n",
    "    def transform(self, param_df):\n",
    "        param_df_scaled = (param_df - self.means) / self.ranges\n",
    "        return param_df_scaled\n",
    "    \n",
    "    def fit_transform(self, param_df):\n",
    "        self.fit(param_df)\n",
    "        return self.transform(param_df)"
   ]
  },
  {
   "cell_type": "code",
   "execution_count": 16,
   "id": "43044896",
   "metadata": {},
   "outputs": [
    {
     "data": {
      "text/html": [
       "<div>\n",
       "<style scoped>\n",
       "    .dataframe tbody tr th:only-of-type {\n",
       "        vertical-align: middle;\n",
       "    }\n",
       "\n",
       "    .dataframe tbody tr th {\n",
       "        vertical-align: top;\n",
       "    }\n",
       "\n",
       "    .dataframe thead th {\n",
       "        text-align: right;\n",
       "    }\n",
       "</style>\n",
       "<table border=\"1\" class=\"dataframe\">\n",
       "  <thead>\n",
       "    <tr style=\"text-align: right;\">\n",
       "      <th></th>\n",
       "      <th>split_sec</th>\n",
       "      <th>final_sec</th>\n",
       "      <th>age</th>\n",
       "    </tr>\n",
       "  </thead>\n",
       "  <tbody>\n",
       "    <tr>\n",
       "      <th>count</th>\n",
       "      <td>37250.000000</td>\n",
       "      <td>37250.000000</td>\n",
       "      <td>37250.000000</td>\n",
       "    </tr>\n",
       "    <tr>\n",
       "      <th>mean</th>\n",
       "      <td>-0.000164</td>\n",
       "      <td>-0.000290</td>\n",
       "      <td>0.000129</td>\n",
       "    </tr>\n",
       "    <tr>\n",
       "      <th>std</th>\n",
       "      <td>0.097746</td>\n",
       "      <td>0.134529</td>\n",
       "      <td>0.148117</td>\n",
       "    </tr>\n",
       "    <tr>\n",
       "      <th>min</th>\n",
       "      <td>-0.249910</td>\n",
       "      <td>-0.337598</td>\n",
       "      <td>-0.343311</td>\n",
       "    </tr>\n",
       "    <tr>\n",
       "      <th>25%</th>\n",
       "      <td>-0.066231</td>\n",
       "      <td>-0.097170</td>\n",
       "      <td>-0.111427</td>\n",
       "    </tr>\n",
       "    <tr>\n",
       "      <th>50%</th>\n",
       "      <td>-0.011639</td>\n",
       "      <td>-0.008205</td>\n",
       "      <td>-0.009978</td>\n",
       "    </tr>\n",
       "    <tr>\n",
       "      <th>75%</th>\n",
       "      <td>0.052194</td>\n",
       "      <td>0.083230</td>\n",
       "      <td>0.105964</td>\n",
       "    </tr>\n",
       "    <tr>\n",
       "      <th>max</th>\n",
       "      <td>0.750090</td>\n",
       "      <td>0.662402</td>\n",
       "      <td>0.656689</td>\n",
       "    </tr>\n",
       "  </tbody>\n",
       "</table>\n",
       "</div>"
      ],
      "text/plain": [
       "          split_sec     final_sec           age\n",
       "count  37250.000000  37250.000000  37250.000000\n",
       "mean      -0.000164     -0.000290      0.000129\n",
       "std        0.097746      0.134529      0.148117\n",
       "min       -0.249910     -0.337598     -0.343311\n",
       "25%       -0.066231     -0.097170     -0.111427\n",
       "50%       -0.011639     -0.008205     -0.009978\n",
       "75%        0.052194      0.083230      0.105964\n",
       "max        0.750090      0.662402      0.656689"
      ]
     },
     "execution_count": 16,
     "metadata": {},
     "output_type": "execute_result"
    }
   ],
   "source": [
    "sc21 = MeanNormalisation()\n",
    "data_cs21_scaled = sc21.fit_transform(X_ALL)\n",
    "data_cs21_scaled.describe()"
   ]
  },
  {
   "cell_type": "code",
   "execution_count": 17,
   "id": "470ea73f",
   "metadata": {},
   "outputs": [
    {
     "data": {
      "text/html": [
       "<div>\n",
       "<style scoped>\n",
       "    .dataframe tbody tr th:only-of-type {\n",
       "        vertical-align: middle;\n",
       "    }\n",
       "\n",
       "    .dataframe tbody tr th {\n",
       "        vertical-align: top;\n",
       "    }\n",
       "\n",
       "    .dataframe thead th {\n",
       "        text-align: right;\n",
       "    }\n",
       "</style>\n",
       "<table border=\"1\" class=\"dataframe\">\n",
       "  <thead>\n",
       "    <tr style=\"text-align: right;\">\n",
       "      <th></th>\n",
       "      <th>split_sec</th>\n",
       "      <th>final_sec</th>\n",
       "      <th>age</th>\n",
       "    </tr>\n",
       "  </thead>\n",
       "  <tbody>\n",
       "    <tr>\n",
       "      <th>count</th>\n",
       "      <td>2.980000e+04</td>\n",
       "      <td>2.980000e+04</td>\n",
       "      <td>2.980000e+04</td>\n",
       "    </tr>\n",
       "    <tr>\n",
       "      <th>mean</th>\n",
       "      <td>6.380057e-19</td>\n",
       "      <td>-5.723144e-17</td>\n",
       "      <td>-4.363470e-17</td>\n",
       "    </tr>\n",
       "    <tr>\n",
       "      <th>std</th>\n",
       "      <td>9.759493e-02</td>\n",
       "      <td>1.343910e-01</td>\n",
       "      <td>1.481152e-01</td>\n",
       "    </tr>\n",
       "    <tr>\n",
       "      <th>min</th>\n",
       "      <td>-2.499099e-01</td>\n",
       "      <td>-3.375980e-01</td>\n",
       "      <td>-3.433114e-01</td>\n",
       "    </tr>\n",
       "    <tr>\n",
       "      <th>25%</th>\n",
       "      <td>-6.608843e-02</td>\n",
       "      <td>-9.674686e-02</td>\n",
       "      <td>-1.114274e-01</td>\n",
       "    </tr>\n",
       "    <tr>\n",
       "      <th>50%</th>\n",
       "      <td>-1.114103e-02</td>\n",
       "      <td>-7.605454e-03</td>\n",
       "      <td>-9.978115e-03</td>\n",
       "    </tr>\n",
       "    <tr>\n",
       "      <th>75%</th>\n",
       "      <td>5.242522e-02</td>\n",
       "      <td>8.372390e-02</td>\n",
       "      <td>1.059639e-01</td>\n",
       "    </tr>\n",
       "    <tr>\n",
       "      <th>max</th>\n",
       "      <td>7.500901e-01</td>\n",
       "      <td>6.624020e-01</td>\n",
       "      <td>6.566886e-01</td>\n",
       "    </tr>\n",
       "  </tbody>\n",
       "</table>\n",
       "</div>"
      ],
      "text/plain": [
       "          split_sec     final_sec           age\n",
       "count  2.980000e+04  2.980000e+04  2.980000e+04\n",
       "mean   6.380057e-19 -5.723144e-17 -4.363470e-17\n",
       "std    9.759493e-02  1.343910e-01  1.481152e-01\n",
       "min   -2.499099e-01 -3.375980e-01 -3.433114e-01\n",
       "25%   -6.608843e-02 -9.674686e-02 -1.114274e-01\n",
       "50%   -1.114103e-02 -7.605454e-03 -9.978115e-03\n",
       "75%    5.242522e-02  8.372390e-02  1.059639e-01\n",
       "max    7.500901e-01  6.624020e-01  6.566886e-01"
      ]
     },
     "execution_count": 17,
     "metadata": {},
     "output_type": "execute_result"
    }
   ],
   "source": [
    "cs22 = MeanNormalisation()\n",
    "cs22.fit(X_train)\n",
    "data_cs22_scaled_train = cs22.transform(X_train)\n",
    "data_cs22_scaled_test = cs22.transform(X_test)\n",
    "data_cs22_scaled_train.describe()"
   ]
  },
  {
   "cell_type": "markdown",
   "id": "f76371c2",
   "metadata": {},
   "source": [
    "### MinMax-масштабирование"
   ]
  },
  {
   "cell_type": "code",
   "execution_count": 18,
   "id": "3c48d4d6",
   "metadata": {},
   "outputs": [
    {
     "data": {
      "text/html": [
       "<div>\n",
       "<style scoped>\n",
       "    .dataframe tbody tr th:only-of-type {\n",
       "        vertical-align: middle;\n",
       "    }\n",
       "\n",
       "    .dataframe tbody tr th {\n",
       "        vertical-align: top;\n",
       "    }\n",
       "\n",
       "    .dataframe thead th {\n",
       "        text-align: right;\n",
       "    }\n",
       "</style>\n",
       "<table border=\"1\" class=\"dataframe\">\n",
       "  <thead>\n",
       "    <tr style=\"text-align: right;\">\n",
       "      <th></th>\n",
       "      <th>split_sec</th>\n",
       "      <th>final_sec</th>\n",
       "      <th>age</th>\n",
       "    </tr>\n",
       "  </thead>\n",
       "  <tbody>\n",
       "    <tr>\n",
       "      <th>count</th>\n",
       "      <td>37250.000000</td>\n",
       "      <td>37250.000000</td>\n",
       "      <td>37250.000000</td>\n",
       "    </tr>\n",
       "    <tr>\n",
       "      <th>mean</th>\n",
       "      <td>0.249746</td>\n",
       "      <td>0.337308</td>\n",
       "      <td>0.343440</td>\n",
       "    </tr>\n",
       "    <tr>\n",
       "      <th>std</th>\n",
       "      <td>0.097746</td>\n",
       "      <td>0.134529</td>\n",
       "      <td>0.148117</td>\n",
       "    </tr>\n",
       "    <tr>\n",
       "      <th>min</th>\n",
       "      <td>0.000000</td>\n",
       "      <td>0.000000</td>\n",
       "      <td>0.000000</td>\n",
       "    </tr>\n",
       "    <tr>\n",
       "      <th>25%</th>\n",
       "      <td>0.183679</td>\n",
       "      <td>0.240428</td>\n",
       "      <td>0.231884</td>\n",
       "    </tr>\n",
       "    <tr>\n",
       "      <th>50%</th>\n",
       "      <td>0.238271</td>\n",
       "      <td>0.329393</td>\n",
       "      <td>0.333333</td>\n",
       "    </tr>\n",
       "    <tr>\n",
       "      <th>75%</th>\n",
       "      <td>0.302104</td>\n",
       "      <td>0.420828</td>\n",
       "      <td>0.449275</td>\n",
       "    </tr>\n",
       "    <tr>\n",
       "      <th>max</th>\n",
       "      <td>1.000000</td>\n",
       "      <td>1.000000</td>\n",
       "      <td>1.000000</td>\n",
       "    </tr>\n",
       "  </tbody>\n",
       "</table>\n",
       "</div>"
      ],
      "text/plain": [
       "          split_sec     final_sec           age\n",
       "count  37250.000000  37250.000000  37250.000000\n",
       "mean       0.249746      0.337308      0.343440\n",
       "std        0.097746      0.134529      0.148117\n",
       "min        0.000000      0.000000      0.000000\n",
       "25%        0.183679      0.240428      0.231884\n",
       "50%        0.238271      0.329393      0.333333\n",
       "75%        0.302104      0.420828      0.449275\n",
       "max        1.000000      1.000000      1.000000"
      ]
     },
     "execution_count": 18,
     "metadata": {},
     "output_type": "execute_result"
    }
   ],
   "source": [
    "# Обучаем StandardScaler на всей выборке и масштабируем\n",
    "cs31 = MinMaxScaler()\n",
    "data_cs31_scaled_temp = cs31.fit_transform(X_ALL)\n",
    "# формируем DataFrame на основе массива\n",
    "data_cs31_scaled = arr_to_df(data_cs31_scaled_temp)\n",
    "data_cs31_scaled.describe()"
   ]
  },
  {
   "cell_type": "code",
   "execution_count": 19,
   "id": "8b14ddac",
   "metadata": {},
   "outputs": [
    {
     "data": {
      "text/html": [
       "<div>\n",
       "<style scoped>\n",
       "    .dataframe tbody tr th:only-of-type {\n",
       "        vertical-align: middle;\n",
       "    }\n",
       "\n",
       "    .dataframe tbody tr th {\n",
       "        vertical-align: top;\n",
       "    }\n",
       "\n",
       "    .dataframe thead th {\n",
       "        text-align: right;\n",
       "    }\n",
       "</style>\n",
       "<table border=\"1\" class=\"dataframe\">\n",
       "  <thead>\n",
       "    <tr style=\"text-align: right;\">\n",
       "      <th></th>\n",
       "      <th>split_sec</th>\n",
       "      <th>final_sec</th>\n",
       "      <th>age</th>\n",
       "    </tr>\n",
       "  </thead>\n",
       "  <tbody>\n",
       "    <tr>\n",
       "      <th>count</th>\n",
       "      <td>29800.000000</td>\n",
       "      <td>29800.000000</td>\n",
       "      <td>29800.000000</td>\n",
       "    </tr>\n",
       "    <tr>\n",
       "      <th>mean</th>\n",
       "      <td>0.249910</td>\n",
       "      <td>0.337598</td>\n",
       "      <td>0.343311</td>\n",
       "    </tr>\n",
       "    <tr>\n",
       "      <th>std</th>\n",
       "      <td>0.097595</td>\n",
       "      <td>0.134391</td>\n",
       "      <td>0.148115</td>\n",
       "    </tr>\n",
       "    <tr>\n",
       "      <th>min</th>\n",
       "      <td>0.000000</td>\n",
       "      <td>0.000000</td>\n",
       "      <td>0.000000</td>\n",
       "    </tr>\n",
       "    <tr>\n",
       "      <th>25%</th>\n",
       "      <td>0.183821</td>\n",
       "      <td>0.240851</td>\n",
       "      <td>0.231884</td>\n",
       "    </tr>\n",
       "    <tr>\n",
       "      <th>50%</th>\n",
       "      <td>0.238769</td>\n",
       "      <td>0.329993</td>\n",
       "      <td>0.333333</td>\n",
       "    </tr>\n",
       "    <tr>\n",
       "      <th>75%</th>\n",
       "      <td>0.302335</td>\n",
       "      <td>0.421322</td>\n",
       "      <td>0.449275</td>\n",
       "    </tr>\n",
       "    <tr>\n",
       "      <th>max</th>\n",
       "      <td>1.000000</td>\n",
       "      <td>1.000000</td>\n",
       "      <td>1.000000</td>\n",
       "    </tr>\n",
       "  </tbody>\n",
       "</table>\n",
       "</div>"
      ],
      "text/plain": [
       "          split_sec     final_sec           age\n",
       "count  29800.000000  29800.000000  29800.000000\n",
       "mean       0.249910      0.337598      0.343311\n",
       "std        0.097595      0.134391      0.148115\n",
       "min        0.000000      0.000000      0.000000\n",
       "25%        0.183821      0.240851      0.231884\n",
       "50%        0.238769      0.329993      0.333333\n",
       "75%        0.302335      0.421322      0.449275\n",
       "max        1.000000      1.000000      1.000000"
      ]
     },
     "execution_count": 19,
     "metadata": {},
     "output_type": "execute_result"
    }
   ],
   "source": [
    "cs32 = MinMaxScaler()\n",
    "cs32.fit(X_train)\n",
    "data_cs32_scaled_train_temp = cs32.transform(X_train)\n",
    "data_cs32_scaled_test_temp = cs32.transform(X_test)\n",
    "# формируем DataFrame на основе массива\n",
    "data_cs32_scaled_train = arr_to_df(data_cs32_scaled_train_temp)\n",
    "data_cs32_scaled_test = arr_to_df(data_cs32_scaled_test_temp)\n",
    "data_cs32_scaled_train.describe()"
   ]
  },
  {
   "cell_type": "markdown",
   "id": "3176fdc8",
   "metadata": {},
   "source": [
    "## Обработка выбросов для числовых признаков"
   ]
  },
  {
   "cell_type": "markdown",
   "id": "a705d067",
   "metadata": {},
   "source": [
    "### Удаление выбросов"
   ]
  },
  {
   "cell_type": "code",
   "execution_count": 20,
   "id": "ff2fd9b2",
   "metadata": {},
   "outputs": [],
   "source": [
    "data_lr3_chng = data_lr3[(data_lr3['age'] < np.quantile(data_lr3['age'], 0.95)) & (data_lr3['age'] > np.quantile(data_lr3['age'], 0.05))]"
   ]
  },
  {
   "cell_type": "code",
   "execution_count": 21,
   "id": "c59c303f",
   "metadata": {},
   "outputs": [
    {
     "data": {
      "text/plain": [
       "gender       33358\n",
       "split_sec    33358\n",
       "final_sec    33358\n",
       "age          33358\n",
       "dtype: int64"
      ]
     },
     "execution_count": 21,
     "metadata": {},
     "output_type": "execute_result"
    }
   ],
   "source": [
    "data_lr3_chng.count()"
   ]
  },
  {
   "cell_type": "markdown",
   "id": "0903084d",
   "metadata": {},
   "source": [
    "### Замена выбросов"
   ]
  },
  {
   "cell_type": "code",
   "execution_count": 24,
   "id": "64adf432",
   "metadata": {},
   "outputs": [],
   "source": [
    "data_lr3_del = data_lr3\n",
    "data_lr3_del['age'] = np.where(data_lr3_del['age'] > np.quantile(data_lr3_del['age'], 0.95), np.quantile(data_lr3_del['age'], 0.95), data_lr3_del['age'])\n",
    "data_lr3_del['age'] = np.where(data_lr3_del['age'] < np.quantile(data_lr3_del['age'], 0.05), np.quantile(data_lr3_del['age'], 0.05), data_lr3_del['age'])"
   ]
  },
  {
   "cell_type": "code",
   "execution_count": 25,
   "id": "8dcf86c2",
   "metadata": {},
   "outputs": [
    {
     "data": {
      "text/plain": [
       "gender       37250\n",
       "split_sec    37250\n",
       "final_sec    37250\n",
       "age          37250\n",
       "dtype: int64"
      ]
     },
     "execution_count": 25,
     "metadata": {},
     "output_type": "execute_result"
    }
   ],
   "source": [
    "data_lr3_del.count()"
   ]
  },
  {
   "cell_type": "markdown",
   "id": "a48408ab",
   "metadata": {},
   "source": [
    "## Обработка нестандартного признака"
   ]
  },
  {
   "cell_type": "code",
   "execution_count": 26,
   "id": "cc1eeb08",
   "metadata": {},
   "outputs": [
    {
     "data": {
      "text/plain": [
       "age                    int64\n",
       "gender                object\n",
       "split        timedelta64[ns]\n",
       "final        timedelta64[ns]\n",
       "split_sec            float64\n",
       "final_sec            float64\n",
       "dtype: object"
      ]
     },
     "execution_count": 26,
     "metadata": {},
     "output_type": "execute_result"
    }
   ],
   "source": [
    "data.dtypes"
   ]
  },
  {
   "cell_type": "code",
   "execution_count": null,
   "id": "2dc85c81",
   "metadata": {},
   "outputs": [],
   "source": [
    "data[\"split_sec_date\"] = data.apply(lambda x: pd.to_datetime(x[\"split_sec\"], format='%m/%d/%Y'), axis=1)"
   ]
  },
  {
   "cell_type": "markdown",
   "id": "1418c8de",
   "metadata": {},
   "source": [
    "## Отбор признаков"
   ]
  },
  {
   "cell_type": "markdown",
   "id": "8f77500e",
   "metadata": {},
   "source": [
    "### Метод фильтрации (Корреляция признаков)"
   ]
  },
  {
   "cell_type": "code",
   "execution_count": 28,
   "id": "29f68e69",
   "metadata": {},
   "outputs": [
    {
     "data": {
      "text/plain": [
       "<AxesSubplot:>"
      ]
     },
     "execution_count": 28,
     "metadata": {},
     "output_type": "execute_result"
    },
    {
     "data": {
      "image/png": "[encoded data removed]",
      "text/plain": [
       "<Figure size 432x288 with 2 Axes>"
      ]
     },
     "metadata": {
      "needs_background": "light"
     },
     "output_type": "display_data"
    }
   ],
   "source": [
    "sns.heatmap(data.corr(), annot=True, fmt='.3f')"
   ]
  },
  {
   "cell_type": "code",
   "execution_count": 29,
   "id": "4d8f2ed8",
   "metadata": {},
   "outputs": [],
   "source": [
    "# Формирование DataFrame с сильными корреляциями\n",
    "def make_corr_df(df):\n",
    "    cr = data.corr()\n",
    "    cr = cr.abs().unstack() \n",
    "    cr = cr.sort_values(ascending=False)\n",
    "    cr = cr[cr >= 0.3]\n",
    "    cr = cr[cr < 1]\n",
    "    cr = pd.DataFrame(cr).reset_index()\n",
    "    cr.columns = ['f1', 'f2', 'corr']\n",
    "    return cr"
   ]
  },
  {
   "cell_type": "code",
   "execution_count": 30,
   "id": "794079be",
   "metadata": {},
   "outputs": [],
   "source": [
    "# Обнаружение групп коррелирующих признаков\n",
    "def corr_groups(cr):\n",
    "    grouped_feature_list = []\n",
    "    correlated_groups = []\n",
    "\n",
    "    for feature in cr['f1'].unique():\n",
    "        if feature not in grouped_feature_list:\n",
    "            # находим коррелирующие признаки\n",
    "            correlated_block = cr[cr['f1'] == feature]\n",
    "            cur_dups = list(correlated_block['f2'].unique()) + [feature]\n",
    "            grouped_feature_list = grouped_feature_list + cur_dups\n",
    "            correlated_groups.append(cur_dups)\n",
    "    return correlated_groups"
   ]
  },
  {
   "cell_type": "code",
   "execution_count": 31,
   "id": "503c6b77",
   "metadata": {},
   "outputs": [
    {
     "data": {
      "text/plain": [
       "[['final_sec', 'split_sec']]"
      ]
     },
     "execution_count": 31,
     "metadata": {},
     "output_type": "execute_result"
    }
   ],
   "source": [
    "# Группы коррелирующих признаков\n",
    "corr_groups(make_corr_df(data))"
   ]
  },
  {
   "cell_type": "markdown",
   "id": "043d665b",
   "metadata": {},
   "source": [
    "## Метод из группы методов вложений"
   ]
  },
  {
   "cell_type": "code",
   "execution_count": 33,
   "id": "df367ff6",
   "metadata": {},
   "outputs": [],
   "source": [
    "from sklearn.linear_model import LogisticRegression\n",
    "from sklearn.svm import LinearSVC"
   ]
  },
  {
   "cell_type": "code",
   "execution_count": 36,
   "id": "808443f2",
   "metadata": {},
   "outputs": [
    {
     "data": {
      "text/plain": [
       "array([[ 0.00102894, -0.00017771, -0.0522335 ]])"
      ]
     },
     "execution_count": 36,
     "metadata": {},
     "output_type": "execute_result"
    }
   ],
   "source": [
    "# Используем L1-регуляризацию\n",
    "e_lr1 = LogisticRegression(C=1000, solver='liblinear', penalty='l1', max_iter=500, random_state=1)\n",
    "e_lr1.fit(X_train, y_train)\n",
    "# Коэффициенты регрессии\n",
    "e_lr1.coef_"
   ]
  },
  {
   "cell_type": "code",
   "execution_count": 37,
   "id": "0de3cc13",
   "metadata": {},
   "outputs": [
    {
     "data": {
      "text/plain": [
       "array([ True,  True,  True])"
      ]
     },
     "execution_count": 37,
     "metadata": {},
     "output_type": "execute_result"
    }
   ],
   "source": [
    "# Все признаки являются \"хорошими\"\n",
    "from sklearn.feature_selection import SelectFromModel\n",
    "sel_e_lr1 = SelectFromModel(e_lr1)\n",
    "sel_e_lr1.fit(X_train, y_train)\n",
    "sel_e_lr1.get_support()"
   ]
  },
  {
   "cell_type": "code",
   "execution_count": 39,
   "id": "cf2094f8",
   "metadata": {},
   "outputs": [
    {
     "data": {
      "text/plain": [
       "array([[ 3.93283980e-04, -6.56364245e-05, -2.10899603e-02]])"
      ]
     },
     "execution_count": 39,
     "metadata": {},
     "output_type": "execute_result"
    }
   ],
   "source": [
    "e_lr2 = LinearSVC(C=0.01, penalty=\"l1\", max_iter=2000, dual=False)\n",
    "e_lr2.fit(X_train, y_train)\n",
    "# Коэффициенты регрессии\n",
    "e_lr2.coef_"
   ]
  },
  {
   "cell_type": "code",
   "execution_count": 41,
   "id": "9da92c09",
   "metadata": {},
   "outputs": [
    {
     "data": {
      "text/plain": [
       "array([ True,  True,  True])"
      ]
     },
     "execution_count": 41,
     "metadata": {},
     "output_type": "execute_result"
    }
   ],
   "source": [
    "# Признаки с флагом False д.б. исключены\n",
    "sel_e_lr2 = SelectFromModel(e_lr2)\n",
    "sel_e_lr2.fit(X_train, y_train)\n",
    "sel_e_lr2.get_support()"
   ]
  }
 ],
 "metadata": {
  "kernelspec": {
   "display_name": "Python 3 (ipykernel)",
   "language": "python",
   "name": "python3"
  },
  "language_info": {
   "codemirror_mode": {
    "name": "ipython",
    "version": 3
   },
   "file_extension": ".py",
   "mimetype": "text/x-python",
   "name": "python",
   "nbconvert_exporter": "python",
   "pygments_lexer": "ipython3",
   "version": "3.9.7"
  }
 },
 "nbformat": 4,
 "nbformat_minor": 5
}
