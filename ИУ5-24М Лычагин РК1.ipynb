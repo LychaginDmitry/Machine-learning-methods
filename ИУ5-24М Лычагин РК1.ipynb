{
 "cells": [
  {
   "cell_type": "markdown",
   "id": "e903f0c3",
   "metadata": {},
   "source": [
    "# Рубежный контроль\n",
    "## Выполнил: ИУ5-24М Лычагин Дмитрий\n",
    "## Вариант: *8* \n",
    "## Номер задачи №1: *8*\tНомер задачи №2: *28*"
   ]
  },
  {
   "cell_type": "code",
   "execution_count": 1,
   "id": "feeac45c",
   "metadata": {},
   "outputs": [],
   "source": [
    "import pandas as pd\n",
    "import numpy as np\n",
    "from scipy import stats\n",
    "import seaborn as sns"
   ]
  },
  {
   "cell_type": "code",
   "execution_count": 3,
   "id": "46723904",
   "metadata": {},
   "outputs": [],
   "source": [
    "df = pd.read_csv('metro_countries_cities.csv')"
   ]
  },
  {
   "cell_type": "code",
   "execution_count": 5,
   "id": "7ffb8593",
   "metadata": {},
   "outputs": [
    {
     "data": {
      "text/html": [
       "<div>\n",
       "<style scoped>\n",
       "    .dataframe tbody tr th:only-of-type {\n",
       "        vertical-align: middle;\n",
       "    }\n",
       "\n",
       "    .dataframe tbody tr th {\n",
       "        vertical-align: top;\n",
       "    }\n",
       "\n",
       "    .dataframe thead th {\n",
       "        text-align: right;\n",
       "    }\n",
       "</style>\n",
       "<table border=\"1\" class=\"dataframe\">\n",
       "  <thead>\n",
       "    <tr style=\"text-align: right;\">\n",
       "      <th></th>\n",
       "      <th>city</th>\n",
       "      <th>country</th>\n",
       "      <th>name</th>\n",
       "      <th>year</th>\n",
       "      <th>year_last_expansion</th>\n",
       "      <th>stations</th>\n",
       "      <th>length_km</th>\n",
       "      <th>annual_ridership_mill</th>\n",
       "      <th>region</th>\n",
       "    </tr>\n",
       "  </thead>\n",
       "  <tbody>\n",
       "    <tr>\n",
       "      <th>0</th>\n",
       "      <td>Algiers</td>\n",
       "      <td>Algeria</td>\n",
       "      <td>Algiers Metro</td>\n",
       "      <td>2011</td>\n",
       "      <td>2018</td>\n",
       "      <td>19</td>\n",
       "      <td>185</td>\n",
       "      <td>45.30</td>\n",
       "      <td>africa</td>\n",
       "    </tr>\n",
       "    <tr>\n",
       "      <th>1</th>\n",
       "      <td>Buenos Aires</td>\n",
       "      <td>Argentina</td>\n",
       "      <td>Buenos Aires Underground</td>\n",
       "      <td>1913</td>\n",
       "      <td>2019</td>\n",
       "      <td>90</td>\n",
       "      <td>567</td>\n",
       "      <td>74.00</td>\n",
       "      <td>latin_america</td>\n",
       "    </tr>\n",
       "    <tr>\n",
       "      <th>2</th>\n",
       "      <td>Yerevan</td>\n",
       "      <td>Armenia</td>\n",
       "      <td>Yerevan Metro</td>\n",
       "      <td>1981</td>\n",
       "      <td>1996</td>\n",
       "      <td>10</td>\n",
       "      <td>134</td>\n",
       "      <td>10.75</td>\n",
       "      <td>asia</td>\n",
       "    </tr>\n",
       "    <tr>\n",
       "      <th>3</th>\n",
       "      <td>Sydney</td>\n",
       "      <td>Australia</td>\n",
       "      <td>Sydney Metro</td>\n",
       "      <td>2019</td>\n",
       "      <td>2019</td>\n",
       "      <td>13</td>\n",
       "      <td>36</td>\n",
       "      <td>12.90</td>\n",
       "      <td>australia</td>\n",
       "    </tr>\n",
       "    <tr>\n",
       "      <th>4</th>\n",
       "      <td>Vienna</td>\n",
       "      <td>Austria</td>\n",
       "      <td>Vienna U-Bahn</td>\n",
       "      <td>1976</td>\n",
       "      <td>2017</td>\n",
       "      <td>98</td>\n",
       "      <td>833</td>\n",
       "      <td>459.80</td>\n",
       "      <td>europe</td>\n",
       "    </tr>\n",
       "  </tbody>\n",
       "</table>\n",
       "</div>"
      ],
      "text/plain": [
       "           city    country                      name  year  \\\n",
       "0       Algiers    Algeria             Algiers Metro  2011   \n",
       "1  Buenos Aires  Argentina  Buenos Aires Underground  1913   \n",
       "2       Yerevan    Armenia             Yerevan Metro  1981   \n",
       "3        Sydney  Australia              Sydney Metro  2019   \n",
       "4        Vienna    Austria             Vienna U-Bahn  1976   \n",
       "\n",
       "   year_last_expansion  stations  length_km  annual_ridership_mill  \\\n",
       "0                 2018        19        185                  45.30   \n",
       "1                 2019        90        567                  74.00   \n",
       "2                 1996        10        134                  10.75   \n",
       "3                 2019        13         36                  12.90   \n",
       "4                 2017        98        833                 459.80   \n",
       "\n",
       "          region  \n",
       "0         africa  \n",
       "1  latin_america  \n",
       "2           asia  \n",
       "3      australia  \n",
       "4         europe  "
      ]
     },
     "execution_count": 5,
     "metadata": {},
     "output_type": "execute_result"
    }
   ],
   "source": [
    "df.head()"
   ]
  },
  {
   "cell_type": "markdown",
   "id": "076a75d6",
   "metadata": {},
   "source": [
    "## Задача 1\n",
    "Для набора данных проведите устранение пропусков для одного (произвольного) числового признака с использованием метода заполнения модой."
   ]
  },
  {
   "cell_type": "code",
   "execution_count": 21,
   "id": "a91e1d1e",
   "metadata": {},
   "outputs": [],
   "source": [
    "df['stations'] = df['stations'].fillna(int(stats.mode(df['stations'])[0]))"
   ]
  },
  {
   "cell_type": "markdown",
   "id": "738c8616",
   "metadata": {},
   "source": [
    "## Задача 2\n",
    "Для набора данных для одного (произвольного) числового признака проведите обнаружение и замену (найденными верхними и нижними границами) выбросов на основе межквартильного размаха."
   ]
  },
  {
   "cell_type": "code",
   "execution_count": 23,
   "id": "35044ccb",
   "metadata": {},
   "outputs": [
    {
     "data": {
      "text/plain": [
       "242.7499999999999"
      ]
     },
     "execution_count": 23,
     "metadata": {},
     "output_type": "execute_result"
    }
   ],
   "source": [
    "np.quantile(df['stations'], 0.95)"
   ]
  },
  {
   "cell_type": "code",
   "execution_count": 28,
   "id": "90b6ce91",
   "metadata": {},
   "outputs": [],
   "source": [
    "df['stations'] = np.where(df['stations'] > np.quantile(df['stations'], 0.95), np.quantile(df['stations'], 0.95) - np.quantile(df['stations'], 0.05), df['stations'])\n",
    "df['stations'] = np.where(df['stations'] < np.quantile(df['stations'], 0.05), np.quantile(df['stations'], 0.95) - np.quantile(df['stations'], 0.05), df['stations'])"
   ]
  },
  {
   "cell_type": "code",
   "execution_count": 29,
   "id": "ea7a8c9a",
   "metadata": {},
   "outputs": [
    {
     "data": {
      "text/html": [
       "<div>\n",
       "<style scoped>\n",
       "    .dataframe tbody tr th:only-of-type {\n",
       "        vertical-align: middle;\n",
       "    }\n",
       "\n",
       "    .dataframe tbody tr th {\n",
       "        vertical-align: top;\n",
       "    }\n",
       "\n",
       "    .dataframe thead th {\n",
       "        text-align: right;\n",
       "    }\n",
       "</style>\n",
       "<table border=\"1\" class=\"dataframe\">\n",
       "  <thead>\n",
       "    <tr style=\"text-align: right;\">\n",
       "      <th></th>\n",
       "      <th>city</th>\n",
       "      <th>country</th>\n",
       "      <th>name</th>\n",
       "      <th>year</th>\n",
       "      <th>year_last_expansion</th>\n",
       "      <th>stations</th>\n",
       "      <th>length_km</th>\n",
       "      <th>annual_ridership_mill</th>\n",
       "      <th>region</th>\n",
       "    </tr>\n",
       "  </thead>\n",
       "  <tbody>\n",
       "    <tr>\n",
       "      <th>0</th>\n",
       "      <td>Algiers</td>\n",
       "      <td>Algeria</td>\n",
       "      <td>Algiers Metro</td>\n",
       "      <td>2011</td>\n",
       "      <td>2018</td>\n",
       "      <td>19.0</td>\n",
       "      <td>185</td>\n",
       "      <td>45.30</td>\n",
       "      <td>africa</td>\n",
       "    </tr>\n",
       "    <tr>\n",
       "      <th>1</th>\n",
       "      <td>Buenos Aires</td>\n",
       "      <td>Argentina</td>\n",
       "      <td>Buenos Aires Underground</td>\n",
       "      <td>1913</td>\n",
       "      <td>2019</td>\n",
       "      <td>90.0</td>\n",
       "      <td>567</td>\n",
       "      <td>74.00</td>\n",
       "      <td>latin_america</td>\n",
       "    </tr>\n",
       "    <tr>\n",
       "      <th>2</th>\n",
       "      <td>Yerevan</td>\n",
       "      <td>Armenia</td>\n",
       "      <td>Yerevan Metro</td>\n",
       "      <td>1981</td>\n",
       "      <td>1996</td>\n",
       "      <td>10.0</td>\n",
       "      <td>134</td>\n",
       "      <td>10.75</td>\n",
       "      <td>asia</td>\n",
       "    </tr>\n",
       "    <tr>\n",
       "      <th>3</th>\n",
       "      <td>Sydney</td>\n",
       "      <td>Australia</td>\n",
       "      <td>Sydney Metro</td>\n",
       "      <td>2019</td>\n",
       "      <td>2019</td>\n",
       "      <td>13.0</td>\n",
       "      <td>36</td>\n",
       "      <td>12.90</td>\n",
       "      <td>australia</td>\n",
       "    </tr>\n",
       "    <tr>\n",
       "      <th>4</th>\n",
       "      <td>Vienna</td>\n",
       "      <td>Austria</td>\n",
       "      <td>Vienna U-Bahn</td>\n",
       "      <td>1976</td>\n",
       "      <td>2017</td>\n",
       "      <td>98.0</td>\n",
       "      <td>833</td>\n",
       "      <td>459.80</td>\n",
       "      <td>europe</td>\n",
       "    </tr>\n",
       "    <tr>\n",
       "      <th>...</th>\n",
       "      <td>...</td>\n",
       "      <td>...</td>\n",
       "      <td>...</td>\n",
       "      <td>...</td>\n",
       "      <td>...</td>\n",
       "      <td>...</td>\n",
       "      <td>...</td>\n",
       "      <td>...</td>\n",
       "      <td>...</td>\n",
       "    </tr>\n",
       "    <tr>\n",
       "      <th>193</th>\n",
       "      <td>San Juan</td>\n",
       "      <td>United States</td>\n",
       "      <td>Tren Urbano</td>\n",
       "      <td>2004</td>\n",
       "      <td>2005</td>\n",
       "      <td>16.0</td>\n",
       "      <td>172</td>\n",
       "      <td>1.10</td>\n",
       "      <td>north_america</td>\n",
       "    </tr>\n",
       "    <tr>\n",
       "      <th>194</th>\n",
       "      <td>Washington, D.C.</td>\n",
       "      <td>United States</td>\n",
       "      <td>Washington Metro</td>\n",
       "      <td>1976</td>\n",
       "      <td>2014</td>\n",
       "      <td>91.0</td>\n",
       "      <td>188</td>\n",
       "      <td>68.10</td>\n",
       "      <td>north_america</td>\n",
       "    </tr>\n",
       "    <tr>\n",
       "      <th>195</th>\n",
       "      <td>Tashkent</td>\n",
       "      <td>Uzbekistan</td>\n",
       "      <td>Tashkent Metro</td>\n",
       "      <td>1977</td>\n",
       "      <td>2020</td>\n",
       "      <td>39.0</td>\n",
       "      <td>571</td>\n",
       "      <td>38.80</td>\n",
       "      <td>asia</td>\n",
       "    </tr>\n",
       "    <tr>\n",
       "      <th>196</th>\n",
       "      <td>Caracas</td>\n",
       "      <td>Venezuela</td>\n",
       "      <td>Caracas Metro</td>\n",
       "      <td>1983</td>\n",
       "      <td>2015</td>\n",
       "      <td>52.0</td>\n",
       "      <td>672</td>\n",
       "      <td>358.00</td>\n",
       "      <td>latin_america</td>\n",
       "    </tr>\n",
       "    <tr>\n",
       "      <th>197</th>\n",
       "      <td>Hanoi</td>\n",
       "      <td>Vietnam</td>\n",
       "      <td>Hanoi Metro</td>\n",
       "      <td>2021</td>\n",
       "      <td>2021</td>\n",
       "      <td>12.0</td>\n",
       "      <td>131</td>\n",
       "      <td>0.00</td>\n",
       "      <td>asia</td>\n",
       "    </tr>\n",
       "  </tbody>\n",
       "</table>\n",
       "<p>198 rows × 9 columns</p>\n",
       "</div>"
      ],
      "text/plain": [
       "                 city        country                      name  year  \\\n",
       "0             Algiers        Algeria             Algiers Metro  2011   \n",
       "1        Buenos Aires      Argentina  Buenos Aires Underground  1913   \n",
       "2             Yerevan        Armenia             Yerevan Metro  1981   \n",
       "3              Sydney      Australia              Sydney Metro  2019   \n",
       "4              Vienna        Austria             Vienna U-Bahn  1976   \n",
       "..                ...            ...                       ...   ...   \n",
       "193          San Juan  United States               Tren Urbano  2004   \n",
       "194  Washington, D.C.  United States          Washington Metro  1976   \n",
       "195          Tashkent     Uzbekistan            Tashkent Metro  1977   \n",
       "196           Caracas      Venezuela             Caracas Metro  1983   \n",
       "197             Hanoi        Vietnam               Hanoi Metro  2021   \n",
       "\n",
       "     year_last_expansion  stations  length_km  annual_ridership_mill  \\\n",
       "0                   2018      19.0        185                  45.30   \n",
       "1                   2019      90.0        567                  74.00   \n",
       "2                   1996      10.0        134                  10.75   \n",
       "3                   2019      13.0         36                  12.90   \n",
       "4                   2017      98.0        833                 459.80   \n",
       "..                   ...       ...        ...                    ...   \n",
       "193                 2005      16.0        172                   1.10   \n",
       "194                 2014      91.0        188                  68.10   \n",
       "195                 2020      39.0        571                  38.80   \n",
       "196                 2015      52.0        672                 358.00   \n",
       "197                 2021      12.0        131                   0.00   \n",
       "\n",
       "            region  \n",
       "0           africa  \n",
       "1    latin_america  \n",
       "2             asia  \n",
       "3        australia  \n",
       "4           europe  \n",
       "..             ...  \n",
       "193  north_america  \n",
       "194  north_america  \n",
       "195           asia  \n",
       "196  latin_america  \n",
       "197           asia  \n",
       "\n",
       "[198 rows x 9 columns]"
      ]
     },
     "execution_count": 29,
     "metadata": {},
     "output_type": "execute_result"
    }
   ],
   "source": [
    "df"
   ]
  },
  {
   "cell_type": "markdown",
   "id": "20fa8fa3",
   "metadata": {},
   "source": [
    "## Задача 3\n",
    "Для студентов группы ИУ5-24М, ИУ5И-24М - для произвольной колонки данных построить график \"Скрипичная диаграмма (violin plot)\"."
   ]
  },
  {
   "cell_type": "code",
   "execution_count": 4,
   "id": "4e7f3414",
   "metadata": {},
   "outputs": [
    {
     "data": {
      "text/plain": [
       "<AxesSubplot:xlabel='stations'>"
      ]
     },
     "execution_count": 4,
     "metadata": {},
     "output_type": "execute_result"
    },
    {
     "data": {
      "image/png": "[encoded data removed]",
      "text/plain": [
       "<Figure size 432x288 with 1 Axes>"
      ]
     },
     "metadata": {
      "needs_background": "light"
     },
     "output_type": "display_data"
    }
   ],
   "source": [
    "sns.violinplot(x=df['stations'])"
   ]
  }
 ],
 "metadata": {
  "kernelspec": {
   "display_name": "Python 3 (ipykernel)",
   "language": "python",
   "name": "python3"
  },
  "language_info": {
   "codemirror_mode": {
    "name": "ipython",
    "version": 3
   },
   "file_extension": ".py",
   "mimetype": "text/x-python",
   "name": "python",
   "nbconvert_exporter": "python",
   "pygments_lexer": "ipython3",
   "version": "3.9.7"
  }
 },
 "nbformat": 4,
 "nbformat_minor": 5
}
