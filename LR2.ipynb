{
 "cells": [
  {
   "cell_type": "markdown",
   "id": "1e9c874f",
   "metadata": {},
   "source": [
    "# Лабораторная работа № 2\n",
    "## Выполнил студент группы ИУ5-24М Лычагин Д.\n",
    "### Датасет Время марафона"
   ]
  },
  {
   "cell_type": "code",
   "execution_count": 4,
   "id": "c18f152d",
   "metadata": {},
   "outputs": [],
   "source": [
    "import matplotlib.pyplot as plt\n",
    "plt.style.use('classic')\n",
    "%matplotlib inline\n",
    "import numpy as np\n",
    "import pandas as pd\n",
    "import seaborn as sns\n",
    "sns.set()\n",
    "import warnings\n",
    "warnings.filterwarnings(\"ignore\")"
   ]
  },
  {
   "cell_type": "code",
   "execution_count": 13,
   "id": "ff84b61c",
   "metadata": {},
   "outputs": [
    {
     "data": {
      "text/html": [
       "<div>\n",
       "<style scoped>\n",
       "    .dataframe tbody tr th:only-of-type {\n",
       "        vertical-align: middle;\n",
       "    }\n",
       "\n",
       "    .dataframe tbody tr th {\n",
       "        vertical-align: top;\n",
       "    }\n",
       "\n",
       "    .dataframe thead th {\n",
       "        text-align: right;\n",
       "    }\n",
       "</style>\n",
       "<table border=\"1\" class=\"dataframe\">\n",
       "  <thead>\n",
       "    <tr style=\"text-align: right;\">\n",
       "      <th></th>\n",
       "      <th>age</th>\n",
       "      <th>gender</th>\n",
       "      <th>split</th>\n",
       "      <th>final</th>\n",
       "    </tr>\n",
       "  </thead>\n",
       "  <tbody>\n",
       "    <tr>\n",
       "      <th>0</th>\n",
       "      <td>33</td>\n",
       "      <td>M</td>\n",
       "      <td>01:05:38</td>\n",
       "      <td>02:08:51</td>\n",
       "    </tr>\n",
       "    <tr>\n",
       "      <th>1</th>\n",
       "      <td>32</td>\n",
       "      <td>M</td>\n",
       "      <td>01:06:26</td>\n",
       "      <td>02:09:28</td>\n",
       "    </tr>\n",
       "    <tr>\n",
       "      <th>2</th>\n",
       "      <td>31</td>\n",
       "      <td>M</td>\n",
       "      <td>01:06:49</td>\n",
       "      <td>02:10:42</td>\n",
       "    </tr>\n",
       "    <tr>\n",
       "      <th>3</th>\n",
       "      <td>38</td>\n",
       "      <td>M</td>\n",
       "      <td>01:06:16</td>\n",
       "      <td>02:13:45</td>\n",
       "    </tr>\n",
       "    <tr>\n",
       "      <th>4</th>\n",
       "      <td>31</td>\n",
       "      <td>M</td>\n",
       "      <td>01:06:32</td>\n",
       "      <td>02:13:59</td>\n",
       "    </tr>\n",
       "  </tbody>\n",
       "</table>\n",
       "</div>"
      ],
      "text/plain": [
       "   age gender     split     final\n",
       "0   33      M  01:05:38  02:08:51\n",
       "1   32      M  01:06:26  02:09:28\n",
       "2   31      M  01:06:49  02:10:42\n",
       "3   38      M  01:06:16  02:13:45\n",
       "4   31      M  01:06:32  02:13:59"
      ]
     },
     "execution_count": 13,
     "metadata": {},
     "output_type": "execute_result"
    }
   ],
   "source": [
    "data = pd.read_csv(marathon-data.csv')\n",
    "data.head()"
   ]
  },
  {
   "cell_type": "code",
   "execution_count": 14,
   "id": "358f775b",
   "metadata": {},
   "outputs": [
    {
     "data": {
      "text/html": [
       "<div>\n",
       "<style scoped>\n",
       "    .dataframe tbody tr th:only-of-type {\n",
       "        vertical-align: middle;\n",
       "    }\n",
       "\n",
       "    .dataframe tbody tr th {\n",
       "        vertical-align: top;\n",
       "    }\n",
       "\n",
       "    .dataframe thead th {\n",
       "        text-align: right;\n",
       "    }\n",
       "</style>\n",
       "<table border=\"1\" class=\"dataframe\">\n",
       "  <thead>\n",
       "    <tr style=\"text-align: right;\">\n",
       "      <th></th>\n",
       "      <th>age</th>\n",
       "      <th>gender</th>\n",
       "      <th>split</th>\n",
       "      <th>final</th>\n",
       "    </tr>\n",
       "  </thead>\n",
       "  <tbody>\n",
       "    <tr>\n",
       "      <th>0</th>\n",
       "      <td>33</td>\n",
       "      <td>M</td>\n",
       "      <td>01:05:38</td>\n",
       "      <td>02:08:51</td>\n",
       "    </tr>\n",
       "    <tr>\n",
       "      <th>1</th>\n",
       "      <td>32</td>\n",
       "      <td>M</td>\n",
       "      <td>01:06:26</td>\n",
       "      <td>02:09:28</td>\n",
       "    </tr>\n",
       "    <tr>\n",
       "      <th>2</th>\n",
       "      <td>31</td>\n",
       "      <td>M</td>\n",
       "      <td>01:06:49</td>\n",
       "      <td>02:10:42</td>\n",
       "    </tr>\n",
       "    <tr>\n",
       "      <th>3</th>\n",
       "      <td>38</td>\n",
       "      <td>M</td>\n",
       "      <td>01:06:16</td>\n",
       "      <td>02:13:45</td>\n",
       "    </tr>\n",
       "    <tr>\n",
       "      <th>4</th>\n",
       "      <td>31</td>\n",
       "      <td>M</td>\n",
       "      <td>01:06:32</td>\n",
       "      <td>02:13:59</td>\n",
       "    </tr>\n",
       "    <tr>\n",
       "      <th>...</th>\n",
       "      <td>...</td>\n",
       "      <td>...</td>\n",
       "      <td>...</td>\n",
       "      <td>...</td>\n",
       "    </tr>\n",
       "    <tr>\n",
       "      <th>37245</th>\n",
       "      <td>18</td>\n",
       "      <td>M</td>\n",
       "      <td>04:24:24</td>\n",
       "      <td>09:32:57</td>\n",
       "    </tr>\n",
       "    <tr>\n",
       "      <th>37246</th>\n",
       "      <td>36</td>\n",
       "      <td>M</td>\n",
       "      <td>04:35:43</td>\n",
       "      <td>09:33:28</td>\n",
       "    </tr>\n",
       "    <tr>\n",
       "      <th>37247</th>\n",
       "      <td>51</td>\n",
       "      <td>M</td>\n",
       "      <td>04:22:35</td>\n",
       "      <td>09:33:40</td>\n",
       "    </tr>\n",
       "    <tr>\n",
       "      <th>37248</th>\n",
       "      <td>55</td>\n",
       "      <td>W</td>\n",
       "      <td>04:58:06</td>\n",
       "      <td>10:00:40</td>\n",
       "    </tr>\n",
       "    <tr>\n",
       "      <th>37249</th>\n",
       "      <td>58</td>\n",
       "      <td>W</td>\n",
       "      <td>04:59:49</td>\n",
       "      <td>10:01:08</td>\n",
       "    </tr>\n",
       "  </tbody>\n",
       "</table>\n",
       "<p>37250 rows × 4 columns</p>\n",
       "</div>"
      ],
      "text/plain": [
       "       age gender     split     final\n",
       "0       33      M  01:05:38  02:08:51\n",
       "1       32      M  01:06:26  02:09:28\n",
       "2       31      M  01:06:49  02:10:42\n",
       "3       38      M  01:06:16  02:13:45\n",
       "4       31      M  01:06:32  02:13:59\n",
       "...    ...    ...       ...       ...\n",
       "37245   18      M  04:24:24  09:32:57\n",
       "37246   36      M  04:35:43  09:33:28\n",
       "37247   51      M  04:22:35  09:33:40\n",
       "37248   55      W  04:58:06  10:00:40\n",
       "37249   58      W  04:59:49  10:01:08\n",
       "\n",
       "[37250 rows x 4 columns]"
      ]
     },
     "execution_count": 14,
     "metadata": {},
     "output_type": "execute_result"
    }
   ],
   "source": [
    "data"
   ]
  },
  {
   "cell_type": "code",
   "execution_count": 15,
   "id": "cc25de27",
   "metadata": {},
   "outputs": [
    {
     "data": {
      "text/plain": [
       "37250"
      ]
     },
     "execution_count": 15,
     "metadata": {},
     "output_type": "execute_result"
    }
   ],
   "source": [
    "len(data)"
   ]
  },
  {
   "cell_type": "markdown",
   "id": "c9b989ea",
   "metadata": {},
   "source": [
    "## Устранение пропусков в данных"
   ]
  },
  {
   "cell_type": "code",
   "execution_count": 16,
   "id": "f0cc4ebb",
   "metadata": {},
   "outputs": [
    {
     "data": {
      "text/plain": [
       "12000   NaN\n",
       "12001   NaN\n",
       "12002   NaN\n",
       "12003   NaN\n",
       "12004   NaN\n",
       "         ..\n",
       "12995   NaN\n",
       "12996   NaN\n",
       "12997   NaN\n",
       "12998   NaN\n",
       "12999   NaN\n",
       "Name: age, Length: 1000, dtype: float64"
      ]
     },
     "execution_count": 16,
     "metadata": {},
     "output_type": "execute_result"
    }
   ],
   "source": [
    "data_wn[12000:13000].loc[data_wn['age'][12000:13000] != np.NaN, 'age'] = -10\n",
    "data_wn['age'][12000:13000] = data_wn['age'][12000:13000].replace(-10,np.NaN)\n",
    "data_wn['age'][12000:13000]"
   ]
  },
  {
   "cell_type": "code",
   "execution_count": 17,
   "id": "3e78906b",
   "metadata": {},
   "outputs": [],
   "source": [
    "data_mean_by_gender = data_wn[['gender', 'age']].groupby('gender').mean()"
   ]
  },
  {
   "cell_type": "code",
   "execution_count": 18,
   "id": "a4f46b39",
   "metadata": {},
   "outputs": [],
   "source": [
    "data_wn['age'] = data_wn['age'].fillna(data_wn.groupby('gender')['age'].transform('mean'))"
   ]
  },
  {
   "cell_type": "markdown",
   "id": "4c060904",
   "metadata": {},
   "source": [
    "## Кодирование категориальных признаков"
   ]
  },
  {
   "cell_type": "code",
   "execution_count": 19,
   "id": "5293c958",
   "metadata": {},
   "outputs": [
    {
     "data": {
      "text/plain": [
       "7000    NaN\n",
       "7001    NaN\n",
       "7002    NaN\n",
       "7003    NaN\n",
       "7004    NaN\n",
       "       ... \n",
       "7995    NaN\n",
       "7996    NaN\n",
       "7997    NaN\n",
       "7998    NaN\n",
       "7999    NaN\n",
       "Name: gender, Length: 1000, dtype: object"
      ]
     },
     "execution_count": 19,
     "metadata": {},
     "output_type": "execute_result"
    }
   ],
   "source": [
    "#Создание пропусков\n",
    "data_wn = data\n",
    "data_wn[7000:8000].loc[data_wn['gender'][7000:8000] != np.NaN, 'gender'] = np.NaN\n",
    "data_wn['gender'][7000:8000]"
   ]
  },
  {
   "cell_type": "markdown",
   "id": "fcc7cfac",
   "metadata": {},
   "source": [
    "## Добавление 2 полей в секундах"
   ]
  },
  {
   "cell_type": "code",
   "execution_count": 31,
   "id": "9d0bde2a",
   "metadata": {},
   "outputs": [
    {
     "data": {
      "text/html": [
       "<div>\n",
       "<style scoped>\n",
       "    .dataframe tbody tr th:only-of-type {\n",
       "        vertical-align: middle;\n",
       "    }\n",
       "\n",
       "    .dataframe tbody tr th {\n",
       "        vertical-align: top;\n",
       "    }\n",
       "\n",
       "    .dataframe thead th {\n",
       "        text-align: right;\n",
       "    }\n",
       "</style>\n",
       "<table border=\"1\" class=\"dataframe\">\n",
       "  <thead>\n",
       "    <tr style=\"text-align: right;\">\n",
       "      <th></th>\n",
       "      <th>age</th>\n",
       "      <th>gender</th>\n",
       "      <th>split</th>\n",
       "      <th>final</th>\n",
       "    </tr>\n",
       "  </thead>\n",
       "  <tbody>\n",
       "    <tr>\n",
       "      <th>0</th>\n",
       "      <td>33</td>\n",
       "      <td>M</td>\n",
       "      <td>0 days 01:05:38</td>\n",
       "      <td>0 days 02:08:51</td>\n",
       "    </tr>\n",
       "    <tr>\n",
       "      <th>1</th>\n",
       "      <td>32</td>\n",
       "      <td>M</td>\n",
       "      <td>0 days 01:06:26</td>\n",
       "      <td>0 days 02:09:28</td>\n",
       "    </tr>\n",
       "    <tr>\n",
       "      <th>2</th>\n",
       "      <td>31</td>\n",
       "      <td>M</td>\n",
       "      <td>0 days 01:06:49</td>\n",
       "      <td>0 days 02:10:42</td>\n",
       "    </tr>\n",
       "    <tr>\n",
       "      <th>3</th>\n",
       "      <td>38</td>\n",
       "      <td>M</td>\n",
       "      <td>0 days 01:06:16</td>\n",
       "      <td>0 days 02:13:45</td>\n",
       "    </tr>\n",
       "    <tr>\n",
       "      <th>4</th>\n",
       "      <td>31</td>\n",
       "      <td>M</td>\n",
       "      <td>0 days 01:06:32</td>\n",
       "      <td>0 days 02:13:59</td>\n",
       "    </tr>\n",
       "  </tbody>\n",
       "</table>\n",
       "</div>"
      ],
      "text/plain": [
       "   age gender           split           final\n",
       "0   33      M 0 days 01:05:38 0 days 02:08:51\n",
       "1   32      M 0 days 01:06:26 0 days 02:09:28\n",
       "2   31      M 0 days 01:06:49 0 days 02:10:42\n",
       "3   38      M 0 days 01:06:16 0 days 02:13:45\n",
       "4   31      M 0 days 01:06:32 0 days 02:13:59"
      ]
     },
     "execution_count": 31,
     "metadata": {},
     "output_type": "execute_result"
    }
   ],
   "source": [
    "import datetime\n",
    "\n",
    "def convert_time(s):\n",
    "    h, m, s = map(int, s.split(':'))\n",
    "    return datetime.timedelta(hours=h, minutes=m, seconds=s)\n",
    "\n",
    "data = pd.read_csv(r'C:\\Users\\lycha\\.jupyter\\marathon-data.csv',\n",
    "                   converters={'split':convert_time, 'final':convert_time})\n",
    "data.head()"
   ]
  },
  {
   "cell_type": "code",
   "execution_count": 32,
   "id": "e08281c1",
   "metadata": {},
   "outputs": [
    {
     "data": {
      "text/html": [
       "<div>\n",
       "<style scoped>\n",
       "    .dataframe tbody tr th:only-of-type {\n",
       "        vertical-align: middle;\n",
       "    }\n",
       "\n",
       "    .dataframe tbody tr th {\n",
       "        vertical-align: top;\n",
       "    }\n",
       "\n",
       "    .dataframe thead th {\n",
       "        text-align: right;\n",
       "    }\n",
       "</style>\n",
       "<table border=\"1\" class=\"dataframe\">\n",
       "  <thead>\n",
       "    <tr style=\"text-align: right;\">\n",
       "      <th></th>\n",
       "      <th>age</th>\n",
       "      <th>gender</th>\n",
       "      <th>split</th>\n",
       "      <th>final</th>\n",
       "      <th>split_sec</th>\n",
       "      <th>final_sec</th>\n",
       "    </tr>\n",
       "  </thead>\n",
       "  <tbody>\n",
       "    <tr>\n",
       "      <th>0</th>\n",
       "      <td>33</td>\n",
       "      <td>M</td>\n",
       "      <td>0 days 01:05:38</td>\n",
       "      <td>0 days 02:08:51</td>\n",
       "      <td>3938.0</td>\n",
       "      <td>7731.0</td>\n",
       "    </tr>\n",
       "    <tr>\n",
       "      <th>1</th>\n",
       "      <td>32</td>\n",
       "      <td>M</td>\n",
       "      <td>0 days 01:06:26</td>\n",
       "      <td>0 days 02:09:28</td>\n",
       "      <td>3986.0</td>\n",
       "      <td>7768.0</td>\n",
       "    </tr>\n",
       "    <tr>\n",
       "      <th>2</th>\n",
       "      <td>31</td>\n",
       "      <td>M</td>\n",
       "      <td>0 days 01:06:49</td>\n",
       "      <td>0 days 02:10:42</td>\n",
       "      <td>4009.0</td>\n",
       "      <td>7842.0</td>\n",
       "    </tr>\n",
       "    <tr>\n",
       "      <th>3</th>\n",
       "      <td>38</td>\n",
       "      <td>M</td>\n",
       "      <td>0 days 01:06:16</td>\n",
       "      <td>0 days 02:13:45</td>\n",
       "      <td>3976.0</td>\n",
       "      <td>8025.0</td>\n",
       "    </tr>\n",
       "    <tr>\n",
       "      <th>4</th>\n",
       "      <td>31</td>\n",
       "      <td>M</td>\n",
       "      <td>0 days 01:06:32</td>\n",
       "      <td>0 days 02:13:59</td>\n",
       "      <td>3992.0</td>\n",
       "      <td>8039.0</td>\n",
       "    </tr>\n",
       "  </tbody>\n",
       "</table>\n",
       "</div>"
      ],
      "text/plain": [
       "   age gender           split           final  split_sec  final_sec\n",
       "0   33      M 0 days 01:05:38 0 days 02:08:51     3938.0     7731.0\n",
       "1   32      M 0 days 01:06:26 0 days 02:09:28     3986.0     7768.0\n",
       "2   31      M 0 days 01:06:49 0 days 02:10:42     4009.0     7842.0\n",
       "3   38      M 0 days 01:06:16 0 days 02:13:45     3976.0     8025.0\n",
       "4   31      M 0 days 01:06:32 0 days 02:13:59     3992.0     8039.0"
      ]
     },
     "execution_count": 32,
     "metadata": {},
     "output_type": "execute_result"
    }
   ],
   "source": [
    "data['split_sec'] = data['split'].astype(np.int64) / 1E9\n",
    "data['final_sec'] = data['final'].astype(np.int64) / 1E9\n",
    "data.head()"
   ]
  },
  {
   "cell_type": "code",
   "execution_count": 33,
   "id": "0bc0653a",
   "metadata": {},
   "outputs": [
    {
     "data": {
      "text/plain": [
       "array(['M', 'W'], dtype=object)"
      ]
     },
     "execution_count": 33,
     "metadata": {},
     "output_type": "execute_result"
    }
   ],
   "source": [
    "data['gender'].unique()"
   ]
  },
  {
   "cell_type": "markdown",
   "id": "9e85487e",
   "metadata": {},
   "source": [
    "## Определение, к какому гендеру принадлежит"
   ]
  },
  {
   "cell_type": "code",
   "execution_count": 34,
   "id": "c5490578",
   "metadata": {},
   "outputs": [],
   "source": [
    "data_wn_col = ['gender','split_sec', 'final_sec', 'age']"
   ]
  },
  {
   "cell_type": "code",
   "execution_count": 35,
   "id": "1a7b3608",
   "metadata": {},
   "outputs": [],
   "source": [
    "from sklearn.preprocessing import LabelEncoder\n",
    "le = LabelEncoder()\n",
    "cat_enc_le = le.fit(data['gender'])\n",
    "data['gender'] = le.transform(data['gender'])"
   ]
  },
  {
   "cell_type": "code",
   "execution_count": 36,
   "id": "ac8cf624",
   "metadata": {},
   "outputs": [
    {
     "data": {
      "text/plain": [
       "array([0, 1])"
      ]
     },
     "execution_count": 36,
     "metadata": {},
     "output_type": "execute_result"
    }
   ],
   "source": [
    "np.unique(data['gender'])\n",
    "#le.inverse_transform([0, 1])"
   ]
  },
  {
   "cell_type": "code",
   "execution_count": 37,
   "id": "855dec7d",
   "metadata": {},
   "outputs": [
    {
     "data": {
      "text/plain": [
       "7000   NaN\n",
       "7001   NaN\n",
       "7002   NaN\n",
       "7003   NaN\n",
       "7004   NaN\n",
       "        ..\n",
       "7995   NaN\n",
       "7996   NaN\n",
       "7997   NaN\n",
       "7998   NaN\n",
       "7999   NaN\n",
       "Name: gender, Length: 1000, dtype: float64"
      ]
     },
     "execution_count": 37,
     "metadata": {},
     "output_type": "execute_result"
    }
   ],
   "source": [
    "data['gender'][7000:8000] = np.NaN\n",
    "data['gender'][7000:8000]"
   ]
  },
  {
   "cell_type": "markdown",
   "id": "c16965cf",
   "metadata": {},
   "source": [
    "## Количество пустых строчек"
   ]
  },
  {
   "cell_type": "code",
   "execution_count": 38,
   "id": "d22fcaed",
   "metadata": {},
   "outputs": [
    {
     "data": {
      "text/plain": [
       "gender       1000\n",
       "split_sec       0\n",
       "final_sec       0\n",
       "age             0\n",
       "dtype: int64"
      ]
     },
     "execution_count": 38,
     "metadata": {},
     "output_type": "execute_result"
    }
   ],
   "source": [
    "data_c = data[data_wn_col]\n",
    "data_c.isnull().sum()"
   ]
  },
  {
   "cell_type": "code",
   "execution_count": 40,
   "id": "5a7eabc6",
   "metadata": {},
   "outputs": [],
   "source": [
    "import warnings\n",
    "from sklearn.impute import KNNImputer\n",
    "warnings.filterwarnings(\"ignore\")"
   ]
  },
  {
   "cell_type": "code",
   "execution_count": 41,
   "id": "d9aa9f12",
   "metadata": {},
   "outputs": [
    {
     "data": {
      "text/html": [
       "<div>\n",
       "<style scoped>\n",
       "    .dataframe tbody tr th:only-of-type {\n",
       "        vertical-align: middle;\n",
       "    }\n",
       "\n",
       "    .dataframe tbody tr th {\n",
       "        vertical-align: top;\n",
       "    }\n",
       "\n",
       "    .dataframe thead th {\n",
       "        text-align: right;\n",
       "    }\n",
       "</style>\n",
       "<table border=\"1\" class=\"dataframe\">\n",
       "  <thead>\n",
       "    <tr style=\"text-align: right;\">\n",
       "      <th></th>\n",
       "      <th>gender</th>\n",
       "      <th>split_sec</th>\n",
       "      <th>final_sec</th>\n",
       "      <th>age</th>\n",
       "    </tr>\n",
       "  </thead>\n",
       "  <tbody>\n",
       "    <tr>\n",
       "      <th>0</th>\n",
       "      <td>0.0</td>\n",
       "      <td>3938.0</td>\n",
       "      <td>7731.0</td>\n",
       "      <td>33.0</td>\n",
       "    </tr>\n",
       "    <tr>\n",
       "      <th>1</th>\n",
       "      <td>0.0</td>\n",
       "      <td>3986.0</td>\n",
       "      <td>7768.0</td>\n",
       "      <td>32.0</td>\n",
       "    </tr>\n",
       "    <tr>\n",
       "      <th>2</th>\n",
       "      <td>0.0</td>\n",
       "      <td>4009.0</td>\n",
       "      <td>7842.0</td>\n",
       "      <td>31.0</td>\n",
       "    </tr>\n",
       "    <tr>\n",
       "      <th>3</th>\n",
       "      <td>0.0</td>\n",
       "      <td>3976.0</td>\n",
       "      <td>8025.0</td>\n",
       "      <td>38.0</td>\n",
       "    </tr>\n",
       "    <tr>\n",
       "      <th>4</th>\n",
       "      <td>0.0</td>\n",
       "      <td>3992.0</td>\n",
       "      <td>8039.0</td>\n",
       "      <td>31.0</td>\n",
       "    </tr>\n",
       "  </tbody>\n",
       "</table>\n",
       "</div>"
      ],
      "text/plain": [
       "   gender  split_sec  final_sec   age\n",
       "0     0.0     3938.0     7731.0  33.0\n",
       "1     0.0     3986.0     7768.0  32.0\n",
       "2     0.0     4009.0     7842.0  31.0\n",
       "3     0.0     3976.0     8025.0  38.0\n",
       "4     0.0     3992.0     8039.0  31.0"
      ]
     },
     "execution_count": 41,
     "metadata": {},
     "output_type": "execute_result"
    }
   ],
   "source": [
    "knnimputer = KNNImputer(\n",
    "    n_neighbors=1, \n",
    "    weights='distance', \n",
    "    metric='nan_euclidean', \n",
    "    add_indicator=False, \n",
    ")\n",
    "knnimpute_data = knnimputer.fit_transform(data_c)\n",
    "knnimpute_data_imputed = pd.DataFrame(knnimpute_data, columns=data_c.columns)\n",
    "knnimpute_data_imputed.head()"
   ]
  },
  {
   "cell_type": "code",
   "execution_count": 42,
   "id": "a56a65c5",
   "metadata": {},
   "outputs": [
    {
     "data": {
      "text/html": [
       "<div>\n",
       "<style scoped>\n",
       "    .dataframe tbody tr th:only-of-type {\n",
       "        vertical-align: middle;\n",
       "    }\n",
       "\n",
       "    .dataframe tbody tr th {\n",
       "        vertical-align: top;\n",
       "    }\n",
       "\n",
       "    .dataframe thead th {\n",
       "        text-align: right;\n",
       "    }\n",
       "</style>\n",
       "<table border=\"1\" class=\"dataframe\">\n",
       "  <thead>\n",
       "    <tr style=\"text-align: right;\">\n",
       "      <th></th>\n",
       "      <th>gender</th>\n",
       "      <th>split_sec</th>\n",
       "      <th>final_sec</th>\n",
       "      <th>age</th>\n",
       "    </tr>\n",
       "  </thead>\n",
       "  <tbody>\n",
       "    <tr>\n",
       "      <th>7000</th>\n",
       "      <td>0.0</td>\n",
       "      <td>6321.0</td>\n",
       "      <td>13742.0</td>\n",
       "      <td>43.0</td>\n",
       "    </tr>\n",
       "    <tr>\n",
       "      <th>7001</th>\n",
       "      <td>1.0</td>\n",
       "      <td>6273.0</td>\n",
       "      <td>13743.0</td>\n",
       "      <td>53.0</td>\n",
       "    </tr>\n",
       "    <tr>\n",
       "      <th>7002</th>\n",
       "      <td>0.0</td>\n",
       "      <td>6709.0</td>\n",
       "      <td>13743.0</td>\n",
       "      <td>50.0</td>\n",
       "    </tr>\n",
       "    <tr>\n",
       "      <th>7003</th>\n",
       "      <td>0.0</td>\n",
       "      <td>6096.0</td>\n",
       "      <td>13743.0</td>\n",
       "      <td>22.0</td>\n",
       "    </tr>\n",
       "    <tr>\n",
       "      <th>7004</th>\n",
       "      <td>0.0</td>\n",
       "      <td>6057.0</td>\n",
       "      <td>13744.0</td>\n",
       "      <td>42.0</td>\n",
       "    </tr>\n",
       "    <tr>\n",
       "      <th>...</th>\n",
       "      <td>...</td>\n",
       "      <td>...</td>\n",
       "      <td>...</td>\n",
       "      <td>...</td>\n",
       "    </tr>\n",
       "    <tr>\n",
       "      <th>7995</th>\n",
       "      <td>0.0</td>\n",
       "      <td>5888.0</td>\n",
       "      <td>14106.0</td>\n",
       "      <td>54.0</td>\n",
       "    </tr>\n",
       "    <tr>\n",
       "      <th>7996</th>\n",
       "      <td>0.0</td>\n",
       "      <td>6295.0</td>\n",
       "      <td>14107.0</td>\n",
       "      <td>29.0</td>\n",
       "    </tr>\n",
       "    <tr>\n",
       "      <th>7997</th>\n",
       "      <td>0.0</td>\n",
       "      <td>6303.0</td>\n",
       "      <td>14107.0</td>\n",
       "      <td>34.0</td>\n",
       "    </tr>\n",
       "    <tr>\n",
       "      <th>7998</th>\n",
       "      <td>0.0</td>\n",
       "      <td>6392.0</td>\n",
       "      <td>14108.0</td>\n",
       "      <td>47.0</td>\n",
       "    </tr>\n",
       "    <tr>\n",
       "      <th>7999</th>\n",
       "      <td>0.0</td>\n",
       "      <td>6791.0</td>\n",
       "      <td>14109.0</td>\n",
       "      <td>39.0</td>\n",
       "    </tr>\n",
       "  </tbody>\n",
       "</table>\n",
       "<p>1000 rows × 4 columns</p>\n",
       "</div>"
      ],
      "text/plain": [
       "      gender  split_sec  final_sec   age\n",
       "7000     0.0     6321.0    13742.0  43.0\n",
       "7001     1.0     6273.0    13743.0  53.0\n",
       "7002     0.0     6709.0    13743.0  50.0\n",
       "7003     0.0     6096.0    13743.0  22.0\n",
       "7004     0.0     6057.0    13744.0  42.0\n",
       "...      ...        ...        ...   ...\n",
       "7995     0.0     5888.0    14106.0  54.0\n",
       "7996     0.0     6295.0    14107.0  29.0\n",
       "7997     0.0     6303.0    14107.0  34.0\n",
       "7998     0.0     6392.0    14108.0  47.0\n",
       "7999     0.0     6791.0    14109.0  39.0\n",
       "\n",
       "[1000 rows x 4 columns]"
      ]
     },
     "execution_count": 42,
     "metadata": {},
     "output_type": "execute_result"
    }
   ],
   "source": [
    "knnimpute_data_imputed[7000:8000]"
   ]
  },
  {
   "cell_type": "markdown",
   "id": "f98a8e78",
   "metadata": {},
   "source": [
    "## Нормализация данных"
   ]
  },
  {
   "cell_type": "code",
   "execution_count": 47,
   "id": "8c4f1720",
   "metadata": {},
   "outputs": [],
   "source": [
    "import scipy.stats as stats"
   ]
  },
  {
   "cell_type": "code",
   "execution_count": 48,
   "id": "f36f6104",
   "metadata": {},
   "outputs": [],
   "source": [
    "def diagnostic_plots(df, variable):\n",
    "    plt.figure(figsize=(15,6))\n",
    "    # гистограмма\n",
    "    plt.subplot(1, 2, 1)\n",
    "    df[variable].hist(bins=30)\n",
    "    ## Q-Q plot\n",
    "    plt.subplot(1, 2, 2)\n",
    "    stats.probplot(df[variable], dist=\"norm\", plot=plt)\n",
    "    plt.show()"
   ]
  },
  {
   "cell_type": "code",
   "execution_count": 49,
   "id": "1a78aae5",
   "metadata": {},
   "outputs": [
    {
     "data": {
      "image/png": "[encoded data removed]",
      "text/plain": [
       "<Figure size 1080x432 with 2 Axes>"
      ]
     },
     "metadata": {},
     "output_type": "display_data"
    }
   ],
   "source": [
    "data['split_sec_exp3'] = data['split_sec']**(0.333)\n",
    "diagnostic_plots(data, 'split_sec_exp3')"
   ]
  }
 ],
 "metadata": {
  "kernelspec": {
   "display_name": "Python 3 (ipykernel)",
   "language": "python",
   "name": "python3"
  },
  "language_info": {
   "codemirror_mode": {
    "name": "ipython",
    "version": 3
   },
   "file_extension": ".py",
   "mimetype": "text/x-python",
   "name": "python",
   "nbconvert_exporter": "python",
   "pygments_lexer": "ipython3",
   "version": "3.9.7"
  }
 },
 "nbformat": 4,
 "nbformat_minor": 5
}
